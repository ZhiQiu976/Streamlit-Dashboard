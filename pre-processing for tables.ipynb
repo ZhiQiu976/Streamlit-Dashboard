{
 "cells": [
  {
   "cell_type": "code",
   "execution_count": 26,
   "metadata": {},
   "outputs": [],
   "source": [
    "import pandas as pd\n",
    "import numpy as np"
   ]
  },
  {
   "cell_type": "code",
   "execution_count": 11,
   "metadata": {},
   "outputs": [],
   "source": [
    "# table 1\n",
    "df = pd.read_excel('sed17-sr-tab001.xlsx', skiprows=3)\n",
    "df.iloc[18,2] = 0\n",
    "df.to_excel('df.xlsx')"
   ]
  },
  {
   "cell_type": "code",
   "execution_count": 19,
   "metadata": {},
   "outputs": [],
   "source": [
    "# table 5\n",
    "df2 = pd.read_excel('sed17-sr-tab005.xlsx', skiprows=3)\n",
    "df2 = df2.iloc[:-2,:]\n",
    "df2 = df2.set_index('Rank')\n",
    "df2.to_excel('df2.xlsx')"
   ]
  },
  {
   "cell_type": "code",
   "execution_count": 21,
   "metadata": {},
   "outputs": [],
   "source": [
    "# table 3\n",
    "df3 = pd.read_excel('sed17-sr-tab003.xlsx', skiprows=3)\n",
    "df3 = df3.set_index('Rank')\n",
    "df3.to_excel('df3.xlsx')"
   ]
  },
  {
   "cell_type": "code",
   "execution_count": 31,
   "metadata": {},
   "outputs": [],
   "source": [
    "# table 6\n",
    "df4 = pd.read_excel(\"sed17-sr-tab006.xlsx\", skiprows=3).loc[1:,].reset_index(drop=True)\n",
    "\n",
    "def helper(i, x):\n",
    "    tmp = df4.iloc[:, [0, 2*i+1, 2*i+2]]\n",
    "    tmp.columns = ['State or location', 'Male', 'Female']\n",
    "    tmp = tmp.melt(id_vars = 'State or location', var_name = 'sex')\n",
    "    tmp[\"field\"] = x\n",
    "    return tmp\n",
    "\n",
    "df4_new = pd.concat([helper(i, x) for i, x in enumerate(df4.columns[1::2])]).reset_index(drop=True)\n",
    "df4_new = df4_new.loc[np.logical_and(df4_new[\"value\"] != 0, df4_new[\"value\"] != 'D'),].reset_index(drop=True)\n",
    "df4_new.to_excel('df4_new.xlsx')"
   ]
  },
  {
   "cell_type": "code",
   "execution_count": null,
   "metadata": {},
   "outputs": [],
   "source": []
  }
 ],
 "metadata": {
  "kernelspec": {
   "display_name": "Python 3",
   "language": "python",
   "name": "python3"
  },
  "language_info": {
   "codemirror_mode": {
    "name": "ipython",
    "version": 3
   },
   "file_extension": ".py",
   "mimetype": "text/x-python",
   "name": "python",
   "nbconvert_exporter": "python",
   "pygments_lexer": "ipython3",
   "version": "3.7.7"
  }
 },
 "nbformat": 4,
 "nbformat_minor": 4
}
